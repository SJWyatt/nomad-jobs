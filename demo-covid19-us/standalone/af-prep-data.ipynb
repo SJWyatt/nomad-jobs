{
 "nbformat": 4,
 "nbformat_minor": 2,
 "metadata": {
  "language_info": {
   "name": "python",
   "codemirror_mode": {
    "name": "ipython",
    "version": 3
   },
   "version": "3.7.4-final"
  },
  "orig_nbformat": 2,
  "file_extension": ".py",
  "mimetype": "text/x-python",
  "name": "python",
  "npconvert_exporter": "python",
  "pygments_lexer": "ipython3",
  "version": 3,
  "kernelspec": {
   "name": "python3",
   "display_name": "Python 3"
  }
 },
 "cells": [
  {
   "cell_type": "code",
   "execution_count": 21,
   "metadata": {},
   "outputs": [
    {
     "output_type": "execute_result",
     "data": {
      "text/plain": "                                   Name           State       geohash  value\n0                            Tinker AFB        Oklahoma  9y69rzbsh9mz     -1\n1                           Andrews AFB        Maryland  dqckf8m8ry2c     -1\n2                           Grissom AFB         Indiana  dp4xrf0ufvjd     -1\n3                        NWS Charleston  South Carolina  djz5s2u037ue     -1\n4                             Altus AFB        Oklahoma  9y1mjp30k6j4     -1\n..                                  ...             ...           ...    ...\n143  Kegelman Air Force Auxiliary Field        Oklahoma  9yd0zpz42yg7     -1\n144          Little Mountain Test Annex            Utah  9x24tvb86wz8     -1\n145                          Robins AFB         Georgia  dju99wbv79r2     -1\n146           Chena River Research Site          Alaska  bex2z9eu444j     -1\n147                       Malmstrom AFB         Montana  c82ymbpm9vsr     -1\n\n[148 rows x 4 columns]",
      "text/html": "<div>\n<style scoped>\n    .dataframe tbody tr th:only-of-type {\n        vertical-align: middle;\n    }\n\n    .dataframe tbody tr th {\n        vertical-align: top;\n    }\n\n    .dataframe thead th {\n        text-align: right;\n    }\n</style>\n<table border=\"1\" class=\"dataframe\">\n  <thead>\n    <tr style=\"text-align: right;\">\n      <th></th>\n      <th>Name</th>\n      <th>State</th>\n      <th>geohash</th>\n      <th>value</th>\n    </tr>\n  </thead>\n  <tbody>\n    <tr>\n      <td>0</td>\n      <td>Tinker AFB</td>\n      <td>Oklahoma</td>\n      <td>9y69rzbsh9mz</td>\n      <td>-1</td>\n    </tr>\n    <tr>\n      <td>1</td>\n      <td>Andrews AFB</td>\n      <td>Maryland</td>\n      <td>dqckf8m8ry2c</td>\n      <td>-1</td>\n    </tr>\n    <tr>\n      <td>2</td>\n      <td>Grissom AFB</td>\n      <td>Indiana</td>\n      <td>dp4xrf0ufvjd</td>\n      <td>-1</td>\n    </tr>\n    <tr>\n      <td>3</td>\n      <td>NWS Charleston</td>\n      <td>South Carolina</td>\n      <td>djz5s2u037ue</td>\n      <td>-1</td>\n    </tr>\n    <tr>\n      <td>4</td>\n      <td>Altus AFB</td>\n      <td>Oklahoma</td>\n      <td>9y1mjp30k6j4</td>\n      <td>-1</td>\n    </tr>\n    <tr>\n      <td>...</td>\n      <td>...</td>\n      <td>...</td>\n      <td>...</td>\n      <td>...</td>\n    </tr>\n    <tr>\n      <td>143</td>\n      <td>Kegelman Air Force Auxiliary Field</td>\n      <td>Oklahoma</td>\n      <td>9yd0zpz42yg7</td>\n      <td>-1</td>\n    </tr>\n    <tr>\n      <td>144</td>\n      <td>Little Mountain Test Annex</td>\n      <td>Utah</td>\n      <td>9x24tvb86wz8</td>\n      <td>-1</td>\n    </tr>\n    <tr>\n      <td>145</td>\n      <td>Robins AFB</td>\n      <td>Georgia</td>\n      <td>dju99wbv79r2</td>\n      <td>-1</td>\n    </tr>\n    <tr>\n      <td>146</td>\n      <td>Chena River Research Site</td>\n      <td>Alaska</td>\n      <td>bex2z9eu444j</td>\n      <td>-1</td>\n    </tr>\n    <tr>\n      <td>147</td>\n      <td>Malmstrom AFB</td>\n      <td>Montana</td>\n      <td>c82ymbpm9vsr</td>\n      <td>-1</td>\n    </tr>\n  </tbody>\n</table>\n<p>148 rows × 4 columns</p>\n</div>"
     },
     "metadata": {},
     "execution_count": 21
    }
   ],
   "source": [
    "import pandas as pd\n",
    "import numpy as np\n",
    "import geohash\n",
    "\n",
    "af_bases = pd.read_csv(\"af_bases_raw.csv\")\n",
    "\n",
    "lats = []\n",
    "geohashes = []\n",
    "for geo in af_bases['Geo'].to_list():\n",
    "    lat_long = geo.split(\",\")\n",
    "    geo_hash = geohash.encode(float(lat_long[0].strip()),float(lat_long[1].strip()))\n",
    "    geohashes.append(geo_hash)\n",
    "\n",
    "af_bases['geohash'] = np.array(geohashes)\n",
    "af_bases['Confirmed'] = -1\n",
    "af_bases = af_bases.drop(columns=['Geo'])\n",
    "af_bases.to_csv('af_bases.csv', index=False, header=False)\n",
    "af_bases"
   ]
  },
  {
   "cell_type": "code",
   "execution_count": null,
   "metadata": {},
   "outputs": [],
   "source": []
  }
 ]
}