{
 "nbformat": 4,
 "nbformat_minor": 2,
 "metadata": {
  "language_info": {
   "name": "python",
   "codemirror_mode": {
    "name": "ipython",
    "version": 3
   },
   "version": "3.7.4-final"
  },
  "orig_nbformat": 2,
  "file_extension": ".py",
  "mimetype": "text/x-python",
  "name": "python",
  "npconvert_exporter": "python",
  "pygments_lexer": "ipython3",
  "version": 3,
  "kernelspec": {
   "name": "python3",
   "display_name": "Python 3"
  }
 },
 "cells": [
  {
   "cell_type": "code",
   "execution_count": 15,
   "metadata": {},
   "outputs": [
    {
     "output_type": "execute_result",
     "data": {
      "text/plain": "                                   Name           State   latitude   longitude\n0                            Tinker AFB        Oklahoma  35.419243  -97.392911\n1                           Andrews AFB        Maryland  38.805161  -76.874437\n2                           Grissom AFB         Indiana  40.661243  -86.142643\n3                        NWS Charleston  South Carolina  32.963168  -79.963930\n4                             Altus AFB        Oklahoma  34.668786  -99.270898\n..                                  ...             ...        ...         ...\n143  Kegelman Air Force Auxiliary Field        Oklahoma  36.737331  -98.120233\n144          Little Mountain Test Annex            Utah  41.252368 -112.246510\n145                          Robins AFB         Georgia  32.645409  -83.604767\n146           Chena River Research Site          Alaska  64.828274 -146.969859\n147                       Malmstrom AFB         Montana  47.505858 -111.182590\n\n[148 rows x 4 columns]",
      "text/html": "<div>\n<style scoped>\n    .dataframe tbody tr th:only-of-type {\n        vertical-align: middle;\n    }\n\n    .dataframe tbody tr th {\n        vertical-align: top;\n    }\n\n    .dataframe thead th {\n        text-align: right;\n    }\n</style>\n<table border=\"1\" class=\"dataframe\">\n  <thead>\n    <tr style=\"text-align: right;\">\n      <th></th>\n      <th>Name</th>\n      <th>State</th>\n      <th>latitude</th>\n      <th>longitude</th>\n    </tr>\n  </thead>\n  <tbody>\n    <tr>\n      <td>0</td>\n      <td>Tinker AFB</td>\n      <td>Oklahoma</td>\n      <td>35.419243</td>\n      <td>-97.392911</td>\n    </tr>\n    <tr>\n      <td>1</td>\n      <td>Andrews AFB</td>\n      <td>Maryland</td>\n      <td>38.805161</td>\n      <td>-76.874437</td>\n    </tr>\n    <tr>\n      <td>2</td>\n      <td>Grissom AFB</td>\n      <td>Indiana</td>\n      <td>40.661243</td>\n      <td>-86.142643</td>\n    </tr>\n    <tr>\n      <td>3</td>\n      <td>NWS Charleston</td>\n      <td>South Carolina</td>\n      <td>32.963168</td>\n      <td>-79.963930</td>\n    </tr>\n    <tr>\n      <td>4</td>\n      <td>Altus AFB</td>\n      <td>Oklahoma</td>\n      <td>34.668786</td>\n      <td>-99.270898</td>\n    </tr>\n    <tr>\n      <td>...</td>\n      <td>...</td>\n      <td>...</td>\n      <td>...</td>\n      <td>...</td>\n    </tr>\n    <tr>\n      <td>143</td>\n      <td>Kegelman Air Force Auxiliary Field</td>\n      <td>Oklahoma</td>\n      <td>36.737331</td>\n      <td>-98.120233</td>\n    </tr>\n    <tr>\n      <td>144</td>\n      <td>Little Mountain Test Annex</td>\n      <td>Utah</td>\n      <td>41.252368</td>\n      <td>-112.246510</td>\n    </tr>\n    <tr>\n      <td>145</td>\n      <td>Robins AFB</td>\n      <td>Georgia</td>\n      <td>32.645409</td>\n      <td>-83.604767</td>\n    </tr>\n    <tr>\n      <td>146</td>\n      <td>Chena River Research Site</td>\n      <td>Alaska</td>\n      <td>64.828274</td>\n      <td>-146.969859</td>\n    </tr>\n    <tr>\n      <td>147</td>\n      <td>Malmstrom AFB</td>\n      <td>Montana</td>\n      <td>47.505858</td>\n      <td>-111.182590</td>\n    </tr>\n  </tbody>\n</table>\n<p>148 rows × 4 columns</p>\n</div>"
     },
     "metadata": {},
     "execution_count": 15
    }
   ],
   "source": [
    "import pandas as pd\n",
    "import numpy as np\n",
    "\n",
    "af_bases = pd.read_csv(\"af_bases_raw.csv\")\n",
    "\n",
    "lats = []\n",
    "longs = []\n",
    "for geo in af_bases['Geo'].to_list():\n",
    "    lat_long = geo.split(\",\")\n",
    "    lats.append(float(lat_long[0].strip()))\n",
    "    longs.append(float(lat_long[1].strip()))\n",
    "\n",
    "af_bases['latitude'] = np.array(lats)\n",
    "af_bases['longitude'] = np.array(longs)\n",
    "af_bases = af_bases.drop(columns=['Geo'])\n",
    "af_bases.to_csv('af_bases.csv', index=False, header=False)\n"
   ]
  },
  {
   "cell_type": "code",
   "execution_count": null,
   "metadata": {},
   "outputs": [],
   "source": []
  }
 ]
}