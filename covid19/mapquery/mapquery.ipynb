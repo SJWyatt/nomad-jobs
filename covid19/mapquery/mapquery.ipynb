{
 "cells": [
  {
   "cell_type": "markdown",
   "metadata": {},
   "source": [
    "## Requesting Data From InfluxDB"
   ]
  },
  {
   "cell_type": "code",
   "execution_count": 13,
   "metadata": {
    "tags": [
     "outputPrepend"
    ]
   },
   "outputs": [],
   "source": [
    "from influxdb import InfluxDBClient\n",
    "import pygeohash as pgh\n",
    "from haversine import haversine, Unit \n",
    "import numpy as np\n",
    "\n",
    "class MapQuery:\n",
    "    def __init__(self, influx_host, influx_port):\n",
    "        self.client = InfluxDBClient(host=influx_host, \n",
    "                                port=influx_port)\n",
    "        \n",
    "        # Dictionary that contains:\n",
    "        # { \n",
    "        #     base_geohash : [ nearby_county_geohash, etc ... ]\n",
    "        # }\n",
    "        self.military_view = self.initialize_military_view()\n",
    "    \n",
    "\n",
    "    def get_military_table_output(self):\n",
    "        self.client.switch_database('covid19')\n",
    "        allowed_geohashes = []\n",
    "\n",
    "        for _, geohash_list in self.military_view.items():\n",
    "            allowed_geohashes.extend(geohash_list)\n",
    "        \n",
    "        # Creating Regexp for all of the geohashes.\n",
    "        expanded_geohash = \"/^(\"\n",
    "        for i in range(len(allowed_geohashes)):\n",
    "            expanded_geohash = expanded_geohash + allowed_geohashes[i]\n",
    "            if i != len(allowed_geohashes) - 1:\n",
    "                expanded_geohash = expanded_geohash + \"|\"\n",
    "\n",
    "        expanded_geohash = expanded_geohash + \")$/\"\n",
    "        query = \"SELECT * FROM covid19 WHERE geohash =~ {0} AND time > now() - 2d\".format(expanded_geohash)\n",
    "        results = self.client.query(query).get_points()\n",
    "\n",
    "        table_output = []\n",
    "        for r in results:\n",
    "            time, confirmed, geohash, location, state = r['time'], r['confirmed'], r['geohash'], r['location'], r['state']\n",
    "            entry = (time, confirmed, geohash, location, state)\n",
    "            table_output.append(entry)\n",
    "\n",
    "        return table_output\n",
    "\n",
    "\n",
    "    def initialize_military_view(self):\n",
    "        # Getting all geohashes \n",
    "        self.client.switch_database('covid19')\n",
    "        get_geohashes = \"SHOW TAG VALUES with KEY=geohash\"\n",
    "        results = self.client.query(get_geohashes).get_points()\n",
    "        geohashes = [result['value'] for result in results]\n",
    "        geohashes = np.array(geohashes)\n",
    "\n",
    "        # Getting all Bases\n",
    "        self.client.switch_database('bases')\n",
    "        results = self.client.query(get_geohashes).get_points()\n",
    "        bases_geohashes = [result['value'] for result in results]\n",
    "        bases_geohashes = np.array(bases_geohashes)\n",
    "\n",
    "        # Calculating distances between all bases and counties.\n",
    "        rows, cols = len(bases_geohashes), len(geohashes)\n",
    "        distance = [[0 for i in range(cols)] for j in range(rows)] \n",
    "        for i in range(rows):\n",
    "            x = pgh.decode(bases_geohashes[i])\n",
    "            for j in range(cols):\n",
    "                y = pgh.decode(geohashes[j])\n",
    "                distance[i][j] = haversine(x, y, unit=Unit.MILES) \n",
    "        distance = np.array(distance)\n",
    "\n",
    "        # Creating a dictionary \n",
    "        # {geohash_base : [ geohash_county_1, gh_county_2 ... ]}\n",
    "        geohash_map = {}\n",
    "        for i in range(rows):\n",
    "            indices = np.argwhere(distance[i] < 50).flatten()\n",
    "            geohash_map[bases_geohashes[i]] = geohashes[indices]\n",
    "        \n",
    "        return geohash_map\n",
    "        "
   ]
  },
  {
   "cell_type": "code",
   "execution_count": 14,
   "metadata": {},
   "outputs": [],
   "source": [
    "map_query = MapQuery('3.235.40.242', 8086)"
   ]
  },
  {
   "cell_type": "code",
   "execution_count": 16,
   "metadata": {
    "tags": [
     "outputPrepend"
    ]
   },
   "outputs": [
    {
     "output_type": "stream",
     "name": "stdout",
     "text": "596\n"
    }
   ],
   "source": [
    "print(len(map_query.get_military_surroundings()))"
   ]
  },
  {
   "cell_type": "code",
   "execution_count": null,
   "metadata": {},
   "outputs": [],
   "source": []
  }
 ],
 "metadata": {
  "language_info": {
   "codemirror_mode": {
    "name": "ipython",
    "version": 3
   },
   "file_extension": ".py",
   "mimetype": "text/x-python",
   "name": "python",
   "nbconvert_exporter": "python",
   "pygments_lexer": "ipython3",
   "version": "3.7.3-final"
  },
  "orig_nbformat": 2,
  "kernelspec": {
   "name": "python37364bitbaseconda0a879d9f1bba4417b5f790e0fe02dbe0",
   "display_name": "Python 3.7.3 64-bit ('base': conda)"
  }
 },
 "nbformat": 4,
 "nbformat_minor": 2
}