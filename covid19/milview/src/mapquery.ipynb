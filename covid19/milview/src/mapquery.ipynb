{
 "cells": [
  {
   "cell_type": "markdown",
   "metadata": {},
   "source": [
    "## Requesting Data From InfluxDB"
   ]
  },
  {
   "cell_type": "code",
   "execution_count": 17,
   "metadata": {
    "tags": [
     "outputPrepend"
    ]
   },
   "outputs": [],
   "source": [
    "from influxdb import InfluxDBClient\n",
    "import pygeohash as pgh\n",
    "from haversine import haversine, Unit \n",
    "import numpy as np\n",
    "\n",
    "class MapQuery:\n",
    "    def __init__(self, influx_host, influx_port):\n",
    "        self.client = InfluxDBClient(host=influx_host, \n",
    "                                port=influx_port)\n",
    "        \n",
    "        # Dictionary that contains:\n",
    "        # { \n",
    "        #     base_geohash : [ nearby_county_geohash, etc ... ]\n",
    "        # }\n",
    "        self.military_view = self.initialize_military_view()\n",
    "    \n",
    "\n",
    "    def get_military_table_output(self):\n",
    "        self.client.switch_database('covid19')\n",
    "        allowed_geohashes = []\n",
    "\n",
    "        for _, geohash_list in self.military_view.items():\n",
    "            allowed_geohashes.extend(geohash_list)\n",
    "        \n",
    "        # Creating Regexp for all of the geohashes.\n",
    "        expanded_geohash = \"/^(\"\n",
    "        for i in range(len(allowed_geohashes)):\n",
    "            expanded_geohash = expanded_geohash + allowed_geohashes[i]\n",
    "            if i != len(allowed_geohashes) - 1:\n",
    "                expanded_geohash = expanded_geohash + \"|\"\n",
    "\n",
    "        expanded_geohash = expanded_geohash + \")$/\"\n",
    "        query = \"SELECT * FROM covid19 WHERE geohash =~ {0} AND time > now() - 2d\".format(expanded_geohash)\n",
    "        results = self.client.query(query).get_points()\n",
    "\n",
    "        table_output = []\n",
    "        for r in results:\n",
    "            time, confirmed, geohash, location, state = r['time'], r['confirmed'], r['geohash'], r['location'], r['state']\n",
    "            entry = (time, confirmed, geohash, location, state)\n",
    "            table_output.append(entry)\n",
    "\n",
    "        return table_output\n",
    "\n",
    "\n",
    "    def initialize_military_view(self):\n",
    "        # Getting all geohashes \n",
    "        self.client.switch_database('covid19')\n",
    "        get_geohashes = \"SHOW TAG VALUES with KEY=geohash\"\n",
    "        results = self.client.query(get_geohashes).get_points()\n",
    "        geohashes = [result['value'] for result in results]\n",
    "        geohashes = np.array(geohashes)\n",
    "\n",
    "        # Getting all Bases\n",
    "        self.client.switch_database('bases')\n",
    "        results = self.client.query(get_geohashes).get_points()\n",
    "        bases_geohashes = [result['value'] for result in results]\n",
    "        bases_geohashes = np.array(bases_geohashes)\n",
    "\n",
    "        # Calculating distances between all bases and counties.\n",
    "        rows, cols = len(bases_geohashes), len(geohashes)\n",
    "        distance = [[0 for i in range(cols)] for j in range(rows)] \n",
    "        for i in range(rows):\n",
    "            x = pgh.decode(bases_geohashes[i])\n",
    "            for j in range(cols):\n",
    "                y = pgh.decode(geohashes[j])\n",
    "                distance[i][j] = haversine(x, y, unit=Unit.MILES) \n",
    "        distance = np.array(distance)\n",
    "\n",
    "        # Creating a dictionary \n",
    "        # {geohash_base : [ geohash_county_1, gh_county_2 ... ]}\n",
    "        geohash_map = {}\n",
    "        for i in range(rows):\n",
    "            indices = np.argwhere(distance[i] < 50).flatten()\n",
    "            geohash_map[bases_geohashes[i]] = geohashes[indices]\n",
    "        \n",
    "        return geohash_map\n",
    "        "
   ]
  },
  {
   "cell_type": "code",
   "execution_count": 18,
   "metadata": {},
   "outputs": [],
   "source": [
    "map_query = MapQuery('3.235.40.242', 8086)"
   ]
  },
  {
   "cell_type": "code",
   "execution_count": 20,
   "metadata": {
    "tags": [
     "outputPrepend"
    ]
   },
   "outputs": [
    {
     "output_type": "execute_result",
     "data": {
      "text/plain": "s',\n  'George, Mississippi, US',\n  'Mississippi'),\n ('2020-04-23T23:59:59Z',\n  1827,\n  '9mur8pnmmfmf',\n  'Orange, California, US',\n  'California'),\n ('2020-04-23T23:59:59Z',\n  6,\n  'dq3rqdyt6b9p',\n  'Gates, North Carolina, US',\n  'North Carolina'),\n ('2020-04-23T23:59:59Z',\n  13,\n  '9y4v3twqs8j5',\n  'Garvin, Oklahoma, US',\n  'Oklahoma'),\n ('2020-04-23T23:59:59Z',\n  317,\n  'drdq52k3h5fr',\n  'Oneida, New York, US',\n  'New York'),\n ('2020-04-23T23:59:59Z',\n  11,\n  '9y6qyysgfczx',\n  'Garfield, Oklahoma, US',\n  'Oklahoma'),\n ('2020-04-23T23:59:59Z',\n  0,\n  'c892qurqn5sz',\n  'Chouteau, Montana, US',\n  'Montana'),\n ('2020-04-23T23:59:59Z',\n  634,\n  '9y6dprymbmqp',\n  'Oklahoma, Oklahoma, US',\n  'Oklahoma'),\n ('2020-04-23T23:59:59Z',\n  9,\n  'dhy7z3d0gr56',\n  'Okeechobee, Florida, US',\n  'Florida'),\n ('2020-04-23T23:59:59Z',\n  141,\n  'dj6qte1ns928',\n  'Okaloosa, Florida, US',\n  'Florida'),\n ('2020-04-23T23:59:59Z',\n  5444,\n  'dr54vtwm3y05',\n  'Ocean, New Jersey, US',\n  'New Jersey'),\n ('2020-04-23T23:59:59Z',\n  19,\n  '9wv4beuvnenq',\n  'Fremont, Colorado, US',\n  'Colorado'),\n ('2020-04-23T23:59:59Z',\n  12,\n  'dqdh3mesvtz6',\n  'Northampton, Virginia, US',\n  'Virginia'),\n ('2020-04-23T23:59:59Z', 0, '9zhpb93r26ph', 'Fremont, Iowa, US', 'Iowa'),\n ('2020-04-23T23:59:59Z',\n  395,\n  'druhbyq1hfec',\n  'Chittenden, Vermont, US',\n  'Vermont'),\n ('2020-04-23T23:59:59Z', 0, '9v8xg0ww6jke', 'Nolan, Texas, US', 'Texas'),\n ('2020-04-23T23:59:59Z',\n  20,\n  'dqbcuegugbcc',\n  'Fredericksburg, Virginia, US',\n  'Virginia'),\n ('2020-04-23T23:59:59Z',\n  45,\n  'djb8k43bvvps',\n  'Newton, Mississippi, US',\n  'Mississippi'),\n ('2020-04-23T23:59:59Z',\n  15,\n  'dq929jznbc84',\n  'Franklin City, Virginia, US',\n  'Virginia'),\n ('2020-04-23T23:59:59Z',\n  90,\n  'druphvfdxxyt',\n  'Franklin, Vermont, US',\n  'Vermont'),\n ('2020-04-23T23:59:59Z',\n  20,\n  'dq9jrggtcchk',\n  'New Kent, Virginia, US',\n  'Virginia'),\n ('2020-04-23T23:59:59Z',\n  28,\n  'dn6b0bj8wcbq',\n  'Franklin, Tennessee, US',\n  'Tennessee'),\n ('2020-04-23T23:59:59Z',\n  52,\n  'dn08zyvvmfbz',\n  'Chickasaw, Mississippi, US',\n  'Mississippi'),\n ('2020-04-23T23:59:59Z',\n  1824,\n  '9xjc9f129vew',\n  'Arapahoe, Colorado, US',\n  'Colorado'),\n ('2020-04-23T23:59:59Z',\n  512,\n  'dqchvcyeznt4',\n  'Alexandria, Virginia, US',\n  'Virginia'),\n ('2020-04-23T23:59:59Z',\n  1389,\n  'dr41nv21z3n1',\n  'New Castle, Delaware, US',\n  'Delaware'),\n ('2020-04-23T23:59:59Z',\n  36,\n  '9qfpegp606zk',\n  'Nevada, California, US',\n  'California'),\n ('2020-04-23T23:59:59Z',\n  2,\n  'dj79txydkq02',\n  'Franklin, Florida, US',\n  'Florida'),\n ('2020-04-23T23:59:59Z',\n  0,\n  'drq4vj7sjj5v',\n  'Nantucket, Massachusetts, US',\n  'Massachusetts'),\n ('2020-04-23T23:59:59Z',\n  195,\n  'dnp3d3fcgq10',\n  'Florence, South Carolina, US',\n  'South Carolina'),\n ('2020-04-23T23:59:59Z',\n  35,\n  'drss5v6uh3xy',\n  'Cheshire, New Hampshire, US',\n  'New Hampshire'),\n ('2020-04-23T23:59:59Z',\n  3,\n  '9yvfw3c44e5v',\n  'Morgan, Missouri, US',\n  'Missouri'),\n ('2020-04-23T23:59:59Z', 0, '9vbd729s9qy8', 'Fisher, Texas, US', 'Texas'),\n ('2020-04-23T23:59:59Z',\n  3395,\n  'dr4kubpg2er6',\n  'Montgomery, Pennsylvania, US',\n  'Pennsylvania'),\n ('2020-04-23T23:59:59Z', 13, 'dph9hctncw1w', 'Fayette, Ohio, US', 'Ohio'),\n ('2020-04-23T23:59:59Z',\n  4,\n  'djcxg6wt8pp2',\n  'Fayette, Alabama, US',\n  'Alabama'),\n ('2020-04-23T23:59:59Z', 1, '9zk36tm4nmpz', 'Montgomery, Iowa, US', 'Iowa'),\n ('2020-04-23T23:59:59Z',\n  67,\n  '9ynrfy655z5g',\n  'Faulkner, Arkansas, US',\n  'Arkansas'),\n ('2020-04-23T23:59:59Z',\n  82,\n  'drd1xrz71x8p',\n  'Chenango, New York, US',\n  'New York'),\n ('2020-04-23T23:59:59Z', 6, '9vfx84qu65z3', 'Montague, Texas, US', 'Texas'),\n ('2020-04-23T23:59:59Z',\n  109,\n  'dn10f9fjqghz',\n  'Monroe, Mississippi, US',\n  'Mississippi'),\n ('2020-04-23T23:59:59Z',\n  60,\n  '9yzcezytt3h4',\n  'Monroe, Illinois, US',\n  'Illinois'),\n ('2020-04-23T23:59:59Z',\n  18,\n  'dju7f64d5ts0',\n  'Monroe, Georgia, US',\n  'Georgia'),\n ('2020-04-23T23:59:59Z',\n  26,\n  'dqcj109qyf97',\n  'Fairfax City, Virginia, US',\n  'Virginia'),\n ('2020-04-23T23:59:59Z',\n  810,\n  'dj3r0u0w48ru',\n  'Mobile, Alabama, US',\n  'Alabama'),\n ('2020-04-23T23:59:59Z',\n  2362,\n  'dqchcw18desy',\n  'Fairfax, Virginia, US',\n  'Virginia'),\n ('2020-04-23T23:59:59Z',\n  12,\n  'dq9hw8123h5e',\n  'Charles City, Virginia, US',\n  'Virginia'),\n ('2020-04-23T23:59:59Z',\n  9530,\n  'dr5n49jntb6t',\n  'Middlesex, New Jersey, US',\n  'New Jersey'),\n ('2020-04-23T23:59:59Z',\n  79,\n  'bexb8tz98t3f',\n  'Fairbanks North Star,Alaska,US',\n  'Alaska'),\n ('2020-04-23T23:59:59Z', 134, 'dph5g7dt2szd', 'Miami, Ohio, US', 'Ohio'),\n ('2020-04-23T23:59:59Z',\n  22,\n  'drgdcr0hj5b3',\n  'Essex, New York, US',\n  'New York'),\n ('2020-04-23T23:59:59Z',\n  6219,\n  'drtd9xd5d1f5',\n  'Essex, Massachusetts, US',\n  'Massachusetts'),\n ('2020-04-23T23:59:59Z',\n  2991,\n  'dr4vhhcdspf7',\n  'Mercer, New Jersey, US',\n  'New Jersey'),\n ('2020-04-23T23:59:59Z',\n  0,\n  '9qsqgnqvzsrx',\n  'Esmeralda, Nevada, US',\n  'Nevada'),\n ('2020-04-23T23:59:59Z', 8, 'dphkmg17yxdf', 'Champaign, Ohio, US', 'Ohio'),\n ('2020-04-23T23:59:59Z',\n  1294,\n  'dqctbugntbk7',\n  'Anne Arundel, Maryland, US',\n  'Maryland'),\n ('2020-04-23T23:59:59Z', 17, '9v1x08n1d89x', 'Medina, Texas, US', 'Texas'),\n ('2020-04-23T23:59:59Z',\n  420,\n  'dj3yeb3p9php',\n  'Escambia, Florida, US',\n  'Florida'),\n ('2020-04-23T23:59:59Z',\n  1,\n  'cb86qh1wjnqe',\n  'McHenry, North Dakota, US',\n  'North Dakota'),\n ('2020-04-23T23:59:59Z', 32, '9rtys7v0nq1f', 'Elmore, Idaho, US', 'Idaho'),\n ('2020-04-23T23:59:59Z',\n  166,\n  'dhyf19rb5t4x',\n  'Martin, Florida, US',\n  'Florida'),\n ('2020-04-23T23:59:59Z',\n  74,\n  'djf9rwr8rb2n',\n  'Elmore, Alabama, US',\n  'Alabama'),\n ('2020-04-23T23:59:59Z',\n  0,\n  'cb9vrqfds03p',\n  'Cavalier, North Dakota, US',\n  'North Dakota'),\n ('2020-04-23T23:59:59Z',\n  25,\n  'dp6ej4fj9jw0',\n  'Marshall, Indiana, US',\n  'Indiana'),\n ('2020-04-23T23:59:59Z',\n  26,\n  '9wvzqrfsf71b',\n  'Elbert, Colorado, US',\n  'Colorado'),\n ('2020-04-23T23:59:59Z',\n  28,\n  'dn5pge5qzmqh',\n  'Marion, Tennessee, US',\n  'Tennessee'),\n ('2020-04-23T23:59:59Z',\n  798,\n  '9wvsvmpp5smc',\n  'El Paso, Colorado, US',\n  'Colorado'),\n ('2020-04-23T23:59:59Z',\n  40,\n  '9qfk97teghmx',\n  'El Dorado, California, US',\n  'California'),\n ('2020-04-23T23:59:59Z',\n  2970,\n  '9tbj8nvuq8wu',\n  'Maricopa, Arizona, US',\n  'Arizona'),\n ('2020-04-23T23:59:59Z',\n  62,\n  'dq2u639s25hu',\n  'Edgecombe, North Carolina, US',\n  'North Carolina'),\n ('2020-04-23T23:59:59Z',\n  55,\n  '9yugugtuq3wm',\n  'Cass, Missouri, US',\n  'Missouri'),\n ('2020-04-23T23:59:59Z',\n  38,\n  'dqbut9zp00vm',\n  'Manassas Park, Virginia, US',\n  'Virginia'),\n ('2020-04-23T23:59:59Z',\n  127,\n  'dqbukv94666w',\n  'Manassas,Virginia,US',\n  'Virginia'),\n ('2020-04-23T23:59:59Z',\n  2,\n  '9y3ytf31zf0n',\n  'Major, Oklahoma, US',\n  'Oklahoma'),\n ('2020-04-23T23:59:59Z', 38, 'dphdynkwm974', 'Madison, Ohio, US', 'Ohio'),\n ('2020-04-23T23:59:59Z',\n  0,\n  'drmex3ygf9ph',\n  'Dukes, Massachusetts, US',\n  'Massachusetts'),\n ('2020-04-23T23:59:59Z',\n  235,\n  'dnbhfhvexeye',\n  'Madison, Illinois, US',\n  'Illinois'),\n ('2020-04-23T23:59:59Z',\n  399,\n  '9wvru2039ub3',\n  'Douglas, Colorado, US',\n  'Colorado'),\n ('2020-04-23T23:59:59Z',\n  13,\n  'c82v4hpszsy4',\n  'Cascade, Montana, US',\n  'Montana'),\n ('2020-04-23T23:59:59Z',\n  24,\n  'dnbp3er1j3dw',\n  'Macoupin, Illinois, US',\n  'Illinois'),\n ('2020-04-23T23:59:59Z',\n  327,\n  '9z7duj91fsp9',\n  'Douglas, Nebraska, US',\n  'Nebraska'),\n ('2020-04-23T23:59:59Z', 27, 'djg04pbrryhs', 'Macon, Alabama, US', 'Alabama'),\n ('2020-04-23T23:59:59Z',\n  84,\n  'djyu4mfvejfz',\n  'Dorchester, South Carolina, US',\n  'South Carolina'),\n ('2020-04-23T23:59:59Z', 81, 'djsqvjus1d0v', 'Dooly, Georgia, US', 'Georgia'),\n ('2020-04-23T23:59:59Z',\n  34,\n  'djdqunqpzzb5',\n  'Lowndes, Alabama, US',\n  'Alabama'),\n ('2020-04-23T23:59:59Z', 22, 'djsz52vg62vg', 'Dodge, Georgia, US', 'Georgia'),\n ('2020-04-23T23:59:59Z', 7, 'dp4qy5x2pqr2', 'Carroll,Indiana,US', 'Indiana'),\n ('2020-04-23T23:59:59Z',\n  166,\n  'bdvgyhj87nz9',\n  'Anchorage,Alaska,US',\n  'Alaska'),\n ('2020-04-23T23:59:59Z',\n  1352,\n  '9q9q4m238cvv',\n  'Alameda, California, US',\n  'California'),\n ('2020-04-23T23:59:59Z',\n  30,\n  '9ynttnc87bdg',\n  'Lonoke, Arkansas, US',\n  'Arkansas'),\n ('2020-04-23T23:59:59Z',\n  3361,\n  'dqcjr6q3206e',\n  'District of Columbia,District of Columbia,US',\n  'District of Columbia'),\n ('2020-04-23T23:59:59Z', 0, 'bem64rrb126q', 'Denali, Alaska, US', 'Alaska'),\n ('2020-04-23T23:59:59Z',\n  11,\n  'dn4rvsedpew9',\n  'Lincoln, Tennessee, US',\n  'Tennessee'),\n ('2020-04-23T23:59:59Z',\n  2902,\n  'dr47h4ts5zhj',\n  'Delaware, Pennsylvania, US',\n  'Pennsylvania'),\n ('2020-04-23T23:59:59Z',\n  236,\n  'dqfy9z51f12j',\n  'Cape May, New Jersey, US',\n  'New Jersey'),\n ('2020-04-23T23:59:59Z',\n  2,\n  'dj7sh2w5hkrh',\n  'Liberty, Florida, US',\n  'Florida'),\n ('2020-04-23T23:59:59Z',\n  126,\n  'dp5kber864cn',\n  'Delaware, Indiana, US',\n  'Indiana'),\n ('2020-04-23T23:59:59Z',\n  9,\n  'drf354ewtywj',\n  'Lewis, New York, US',\n  'New York'),\n ('2020-04-23T23:59:59Z',\n  176,\n  '9vtq6g7emmf2',\n  'De Soto, Louisiana, US',\n  'Louisiana'),\n ('2020-04-23T23:59:59Z',\n  0,\n  '9wjg25csvpdz',\n  'De Baca, New Mexico, US',\n  'New Mexico'),\n ('2020-04-23T23:59:59Z',\n  66,\n  'dn0gn48hem31',\n  'Lee, Mississippi, US',\n  'Mississippi'),\n ('2020-04-23T23:59:59Z', 14, '9v4v2w4cjyg8', 'DeWitt, Texas, US', 'Texas'),\n ('2020-04-23T23:59:59Z',\n  86,\n  '9y664q3f8jch',\n  'Canadian, Oklahoma, US',\n  'Oklahoma'),\n ('2020-04-23T23:59:59Z',\n  46,\n  'djv09jcbhku7',\n  'Laurens, Georgia, US',\n  'Georgia'),\n ('2020-04-23T23:59:59Z',\n  249,\n  'djbbq7n04srb',\n  'Lauderdale, Mississippi, US',\n  'Mississippi'),\n ('2020-04-23T23:59:59Z',\n  274,\n  '9xjp25hkzc3c',\n  'Larimer, Colorado, US',\n  'Colorado'),\n ('2020-04-23T23:59:59Z',\n  117,\n  '9xmdcxxyz7d7',\n  'Laramie, Wyoming, US',\n  'Wyoming'),\n ('2020-04-23T23:59:59Z', 254, '9x230y104mnx', 'Davis, Utah, US', 'Utah'),\n ('2020-04-23T23:59:59Z', 1, '9v1h1yutest9', 'Zavala, Texas, US', 'Texas'),\n ('2020-04-23T23:59:59Z',\n  106,\n  '9z70pbd0gws1',\n  'Lancaster, Nebraska, US',\n  'Nebraska'),\n ('2020-04-23T23:59:59Z',\n  43,\n  'dq9efhn289c3',\n  'York, Virginia, US',\n  'Virginia'),\n ('2020-04-23T23:59:59Z',\n  92,\n  'dnp5k6nxwecd',\n  'Darlington, South Carolina, US',\n  'South Carolina'),\n ('2020-04-23T23:59:59Z',\n  2683,\n  'dr4dqjuzyfdj',\n  'Camden, New Jersey, US',\n  'New Jersey'),\n ('2020-04-23T23:59:59Z',\n  151,\n  '9qck41cz9d82',\n  'Yolo, California, US',\n  'California'),\n ('2020-04-23T23:59:59Z',\n  3,\n  '9y99nm0pts24',\n  'Woods, Oklahoma, US',\n  'Oklahoma'),\n ('2020-04-23T23:59:59Z',\n  0,\n  'bd2vt20msxgh',\n  'Lake and Peninsula, Alaska, US',\n  'Alaska'),\n ('2020-04-23T23:59:59Z',\n  6,\n  '9qbwqwjt1pzr',\n  'Lake, California, US',\n  'California'),\n ('2020-04-23T23:59:59Z',\n  64,\n  'djstvkugtykc',\n  'Wilcox, Georgia, US',\n  'Georgia'),\n ('2020-04-23T23:59:59Z', 62, '9y1c3gmugwq5', 'Wichita, Texas, US', 'Texas'),\n ('2020-04-23T23:59:59Z', 59, 'c2mp0qs4k60x', 'Kootenai, Idaho, US', 'Idaho'),\n ('2020-04-23T23:59:59Z',\n  4,\n  '9y1wesquxum3',\n  'Kiowa, Oklahoma, US',\n  'Oklahoma'),\n ('2020-04-23T23:59:59Z',\n  33,\n  'djf3h7esqx99',\n  'Autauga, Alabama, US',\n  'Alabama'),\n ('2020-04-23T23:59:59Z', 5, 'dp5rswx9x5dg', 'Wells, Indiana, US', 'Indiana'),\n ('2020-04-23T23:59:59Z', 0, '9ydjwv7m86y6', 'Kingman, Kansas, US', 'Kansas'),\n ('2020-04-23T23:59:59Z',\n  6,\n  '9y6k7r8ue99g',\n  'Kingfisher, Oklahoma, US',\n  'Oklahoma'),\n ('2020-04-23T23:59:59Z',\n  22,\n  'dq3ecs1k040n',\n  'Washington, North Carolina, US',\n  'North Carolina'),\n ('2020-04-23T23:59:59Z',\n  7,\n  '9yxrgyxsde75',\n  'Washington, Missouri, US',\n  'Missouri'),\n ('2020-04-23T23:59:59Z',\n  21,\n  'dqc1snwb7fxz',\n  'King George, Virginia, US',\n  'Virginia'),\n ('2020-04-23T23:59:59Z',\n  208,\n  'dnneq5muk44d',\n  'Kershaw, South Carolina, US',\n  'South Carolina'),\n ('2020-04-23T23:59:59Z',\n  22,\n  '9yzht942hyxy',\n  'Warren, Missouri, US',\n  'Missouri'),\n ('2020-04-23T23:59:59Z',\n  21,\n  'c8xf36fhsfg4',\n  'Ward, North Dakota, US',\n  'North Dakota'),\n ('2020-04-23T23:59:59Z', 15, '9v3f3g0t68s4', 'Kendall, Texas, US', 'Texas'),\n ('2020-04-23T23:59:59Z',\n  27,\n  'djbfqfv999kz',\n  'Kemper, Mississippi, US',\n  'Mississippi'),\n ('2020-04-23T23:59:59Z',\n  1,\n  'dn75p6xxejbb',\n  'Van Buren, Tennessee, US',\n  'Tennessee'),\n ('2020-04-23T23:59:59Z', 12, '9v2441wfx6jc', 'Val Verde, Texas, US', 'Texas'),\n ('2020-04-23T23:59:59Z',\n  12,\n  'dq0zpxtj57y8',\n  'Jones, North Carolina, US',\n  'North Carolina'),\n ('2020-04-23T23:59:59Z', 24, 'djuefs1362v4', 'Jones, Georgia, US', 'Georgia'),\n ('2020-04-23T23:59:59Z',\n  544,\n  'dr4bt472g1qz',\n  'Atlantic, New Jersey, US',\n  'New Jersey'),\n ('2020-04-23T23:59:59Z',\n  125,\n  'dq2609z2ns9f',\n  'Johnston, North Carolina, US',\n  'North Carolina'),\n ('2020-04-23T23:59:59Z',\n  11,\n  '9yzwrgyk0u41',\n  'Jersey, Illinois, US',\n  'Illinois'),\n ('2020-04-23T23:59:59Z',\n  1075,\n  '9xj1hyqp0p8e',\n  'Jefferson, Colorado, US',\n  'Colorado'),\n ('2020-04-23T23:59:59Z',\n  62,\n  'dp4jy8t97u3r',\n  'Tippecanoe, Indiana, US',\n  'Indiana'),\n ('2020-04-23T23:59:59Z', 98, 'djsdgqeuyg8f', 'Tift, Georgia, US', 'Georgia'),\n ('2020-04-23T23:59:59Z',\n  244,\n  '9yz9eszsrhmq',\n  'Jefferson, Missouri, US',\n  'Missouri'),\n ('2020-04-23T23:59:59Z',\n  19,\n  'djumx8gujb3h',\n  'Jasper, Georgia, US',\n  'Georgia'),\n ('2020-04-23T23:59:59Z',\n  254,\n  'djffzx781cxg',\n  'Tallapoosa, Alabama, US',\n  'Alabama'),\n ('2020-04-23T23:59:59Z',\n  44,\n  '9qcqncbww98y',\n  'Sutter, California, US',\n  'California'),\n ('2020-04-23T23:59:59Z',\n  287,\n  '9yuvvjd3vg4u',\n  'Jackson, Missouri, US',\n  'Missouri'),\n ('2020-04-23T23:59:59Z',\n  228,\n  'dj2vwzsvx7jh',\n  'Jackson, Mississippi, US',\n  'Mississippi'),\n ('2020-04-23T23:59:59Z',\n  10,\n  'drswst9eb9q2',\n  'Sullivan, New Hampshire, US',\n  'New Hampshire'),\n ('2020-04-23T23:59:59Z',\n  9739,\n  'drt2y9d4ny19',\n  'Suffolk, Massachusetts, US',\n  'Massachusetts'),\n ('2020-04-23T23:59:59Z',\n  91,\n  'dq93yqqxu49c',\n  'Isle of Wight, Virginia, US',\n  'Virginia'),\n ('2020-04-23T23:59:59Z', 17, 'djsgc0bzz814', 'Irwin, Georgia, US', 'Georgia'),\n ('2020-04-23T23:59:59Z',\n  7,\n  'djt4417fmgen',\n  'Atkinson, Georgia, US',\n  'Georgia'),\n ('2020-04-23T23:59:59Z',\n  1082,\n  '9xjfcfbsubpm',\n  'Adams, Colorado, US',\n  'Colorado'),\n ('2020-04-23T23:59:59Z',\n  2518,\n  '9yzevcg2gjrk',\n  'St. Louis, Missouri, US',\n  'Missouri'),\n ('2020-04-23T23:59:59Z',\n  2,\n  '9yv26h6jt3xv',\n  'St. Clair, Missouri, US',\n  'Missouri'),\n ('2020-04-23T23:59:59Z',\n  330,\n  'dnb4ce4xb26u',\n  'St. Clair, Illinois, US',\n  'Illinois'),\n ('2020-04-23T23:59:59Z',\n  320,\n  'c2kwbmht1qk6',\n  'Spokane, Washington, US',\n  'Washington'),\n ('2020-04-23T23:59:59Z',\n  2798,\n  'dr4yy09dmb4y',\n  'Somerset, New Jersey, US',\n  'New Jersey'),\n ('2020-04-23T23:59:59Z', 30, 'dphj7yjsc9sm', 'Shelby, Ohio, US', 'Ohio'),\n ('2020-04-23T23:59:59Z',\n  130,\n  'dn6d08t5cn3w',\n  'Bedford, Tennessee, US',\n  'Tennessee'),\n ('2020-04-23T23:59:59Z',\n  19,\n  'dq9h1hc8ue5s',\n  'Hopewell, Virginia, US',\n  'Virginia'),\n ('2020-04-23T23:59:59Z',\n  316,\n  '9ydwqhpny33t',\n  'Sedgwick, Kansas, US',\n  'Kansas'),\n ('2020-04-23T23:59:59Z', 0, '9v2xb0wn7tbt', 'Schleicher, Texas, US', 'Texas'),\n ('2020-04-23T23:59:59Z',\n  8,\n  '9z768cq93kz5',\n  'Saunders, Nebraska, US',\n  'Nebraska'),\n ('2020-04-23T23:59:59Z',\n  310,\n  'dhv6wkzyg37h',\n  'Sarasota, Florida, US',\n  'Florida'),\n ('2020-04-23T23:59:59Z',\n  114,\n  '9q94z9v3wyq4',\n  'Santa Cruz, California, US',\n  'California'),\n ('2020-04-23T23:59:59Z',\n  1987,\n  '9q97y9wyt696',\n  'Santa Clara, California, US',\n  'California'),\n ('2020-04-23T23:59:59Z',\n  2,\n  '9y30esqq9u45',\n  'Beckham, Oklahoma, US',\n  'Oklahoma'),\n ('2020-04-23T23:59:59Z',\n  966,\n  '9q9hbkeu16s5',\n  'San Mateo, California, US',\n  'California'),\n ('2020-04-23T23:59:59Z',\n  25,\n  'dq0r09mm49vk',\n  'Sampson, North Carolina, US',\n  'North Carolina'),\n ('2020-04-23T23:59:59Z', 1889, '9x0rm5j1tdtm', 'Salt Lake, Utah, US', 'Utah'),\n ('2020-04-23T23:59:59Z',\n  51,\n  '9ynj55etbxff',\n  'Saline, Arkansas, US',\n  'Arkansas'),\n ('2020-04-23T23:59:59Z',\n  164,\n  'dr43jqwh0kmc',\n  'Salem, New Jersey, US',\n  'New Jersey'),\n ('2020-04-23T23:59:59Z', 0, '9v8vhfxxd96v', 'Runnels, Texas, US', 'Texas'),\n ('2020-04-23T23:59:59Z',\n  551,\n  'drtkt3jtf033',\n  'Rockingham, New Hampshire, US',\n  'New Hampshire'),\n ('2020-04-23T23:59:59Z', 0, '9vcrnrdvv0wu', 'Baylor, Texas, US', 'Texas'),\n ('2020-04-23T23:59:59Z',\n  0,\n  '9y0vxuvqd9d1',\n  'Harmon, Oklahoma, US',\n  'Oklahoma'),\n ('2020-04-23T23:59:59Z', 10, '9yvpvhpk0np5', 'Ray, Missouri, US', 'Missouri'),\n ('2020-04-23T23:59:59Z',\n  3,\n  'cb9f9e0dt05k',\n  'Ramsey, North Dakota, US',\n  'North Dakota'),\n ('2020-04-23T23:59:59Z',\n  33,\n  'dqcyjz0b8fe9',\n  \"Queen Anne's, Maryland, US\",\n  'Maryland'),\n ('2020-04-23T23:59:59Z',\n  29,\n  'djutw9zf36g9',\n  'Putnam, Georgia, US',\n  'Georgia'),\n ('2020-04-23T23:59:59Z',\n  20,\n  'djsxk7yuzghh',\n  'Pulaski, Georgia, US',\n  'Georgia'),\n ('2020-04-23T23:59:59Z',\n  4350,\n  'drmn5nqf4w3k',\n  'Providence, Rhode Island, US',\n  'Rhode Island'),\n ('2020-04-23T23:59:59Z', 60, 'dj7h5tst0zf8', 'Bay, Florida, US', 'Florida'),\n ('2020-04-23T23:59:59Z',\n  1027,\n  'dqbuhwz94yfg',\n  'Prince William, Virginia, US',\n  'Virginia'),\n ('2020-04-23T23:59:59Z',\n  18,\n  '9zk51vnd40h3',\n  'Pottawattamie, Iowa, US',\n  'Iowa'),\n ('2020-04-23T23:59:59Z',\n  98,\n  'dq99wqh81ehx',\n  'Portsmouth, Virginia, US',\n  'Virginia'),\n ('2020-04-23T23:59:59Z',\n  6,\n  'dq9eq3tg6162',\n  'Poquoson, Virginia, US',\n  'Virginia'),\n ('2020-04-23T23:59:59Z', 379, 'dhvzhbjy4hpv', 'Polk, Florida, US', 'Florida'),\n ('2020-04-23T23:59:59Z',\n  101,\n  'dq2frrfmfncn',\n  'Pitt, North Carolina, US',\n  'North Carolina'),\n ('2020-04-23T23:59:59Z', 57, 'djduumez988f', 'Pike, Alabama, US', 'Alabama'),\n ('2020-04-23T23:59:59Z',\n  10,\n  'djyj6bh1p79y',\n  'Barnwell, South Carolina, US',\n  'South Carolina'),\n ('2020-04-23T23:59:59Z',\n  102,\n  'dp5n6zsnj4h0',\n  'Grant, Indiana, US',\n  'Indiana'),\n ('2020-04-23T23:59:59Z',\n  3,\n  'dnb2wm5vcdf1',\n  'Perry, Illinois, US',\n  'Illinois'),\n ('2020-04-23T23:59:59Z',\n  11,\n  '9xyfk4mv9k4d',\n  'Pennington, South Dakota, US',\n  'South Dakota'),\n ('2020-04-23T23:59:59Z',\n  1,\n  'cbe9qw5zjz1y',\n  'Pennington, Minnesota, US',\n  'Minnesota'),\n ('2020-04-23T23:59:59Z',\n  0,\n  'cbdtkjsebv0s',\n  'Pembina, North Dakota, US',\n  'North Dakota'),\n ('2020-04-23T23:59:59Z',\n  33,\n  'dq3y2f5ryz4j',\n  'Pasquotank, North Carolina, US',\n  'North Carolina'),\n ('2020-04-23T23:59:59Z', 3, '9wnumjfxkq68', 'Parmer, Texas, US', 'Texas'),\n ('2020-04-23T23:59:59Z',\n  708,\n  'drqj2s9mwpx7',\n  'Barnstable, Massachusetts, US',\n  'Massachusetts'),\n ('2020-04-23T23:59:59Z', 75, '9vsyyp2bdh8h', 'Panola, Texas, US', 'Texas'),\n ('2020-04-23T23:59:59Z',\n  50,\n  'drdds97wrn0n',\n  'Otsego, New York, US',\n  'New York'),\n ('2020-04-23T23:59:59Z',\n  5,\n  '9tuc9c15q6hd',\n  'Otero, New Mexico, US',\n  'New Mexico'),\n ('2020-04-23T23:59:59Z',\n  49,\n  'dr9z51zcjqse',\n  'Oswego, New York, US',\n  'New York'),\n ('2020-04-23T23:59:59Z',\n  52,\n  'djyw1rkhfj3h',\n  'Orangeburg, South Carolina, US',\n  'South Carolina'),\n ('2020-04-23T23:59:59Z',\n  600,\n  'dr9udhc1f1bz',\n  'Onondaga, New York, US',\n  'New York'),\n ('2020-04-23T23:59:59Z',\n  45,\n  'djby1sb4rbpg',\n  'Oktibbeha, Mississippi, US',\n  'Mississippi'),\n ('2020-04-23T23:59:59Z', 1, '9y9gf3k1f4hr', 'Barber, Kansas, US', 'Kansas'),\n ('2020-04-23T23:59:59Z', 7, 'dp69t03s13tt', 'Fulton, Indiana, US', 'Indiana'),\n ('2020-04-23T23:59:59Z',\n  29,\n  'djch2e98m311',\n  'Noxubee, Mississippi, US',\n  'Mississippi'),\n ('2020-04-23T23:59:59Z',\n  136,\n  'dq9cbt645ps3',\n  'Norfolk, Virginia, US',\n  'Virginia'),\n ('2020-04-23T23:59:59Z',\n  4541,\n  'drmrgejuh1vh',\n  'Norfolk, Massachusetts, US',\n  'Massachusetts'),\n ('2020-04-23T23:59:59Z',\n  6,\n  '9y6z52xb3ktj',\n  'Noble, Oklahoma, US',\n  'Oklahoma'),\n ('2020-04-23T23:59:59Z',\n  117,\n  'drmk6q9chbun',\n  'Newport, Rhode Island, US',\n  'Rhode Island'),\n ('2020-04-23T23:59:59Z',\n  74,\n  'dq0duh2hzu79',\n  'New Hanover, North Carolina, US',\n  'North Carolina'),\n ...]"
     },
     "metadata": {},
     "execution_count": 20
    }
   ],
   "source": [
    "map_query.get_military_table_output()"
   ]
  },
  {
   "cell_type": "code",
   "execution_count": null,
   "metadata": {},
   "outputs": [],
   "source": []
  }
 ],
 "metadata": {
  "language_info": {
   "codemirror_mode": {
    "name": "ipython",
    "version": 3
   },
   "file_extension": ".py",
   "mimetype": "text/x-python",
   "name": "python",
   "nbconvert_exporter": "python",
   "pygments_lexer": "ipython3",
   "version": "3.7.3-final"
  },
  "orig_nbformat": 2,
  "kernelspec": {
   "name": "python37364bitbaseconda0a879d9f1bba4417b5f790e0fe02dbe0",
   "display_name": "Python 3.7.3 64-bit ('base': conda)"
  }
 },
 "nbformat": 4,
 "nbformat_minor": 2
}